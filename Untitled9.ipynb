{
  "nbformat": 4,
  "nbformat_minor": 0,
  "metadata": {
    "colab": {
      "name": "Untitled9.ipynb",
      "provenance": [],
      "collapsed_sections": [],
      "authorship_tag": "ABX9TyMR6zKbS8/8r6kbszAufK8+",
      "include_colab_link": true
    },
    "kernelspec": {
      "name": "python3",
      "display_name": "Python 3"
    }
  },
  "cells": [
    {
      "cell_type": "markdown",
      "metadata": {
        "id": "view-in-github",
        "colab_type": "text"
      },
      "source": [
        "<a href=\"https://colab.research.google.com/github/gwin-droid/pyutils/blob/master/Untitled9.ipynb\" target=\"_parent\"><img src=\"https://colab.research.google.com/assets/colab-badge.svg\" alt=\"Open In Colab\"/></a>"
      ]
    },
    {
      "cell_type": "code",
      "metadata": {
        "id": "Vxgx0f9CyRGw",
        "colab_type": "code",
        "colab": {}
      },
      "source": [
        "import pandas as pd\n",
        "import numpy as np\n",
        "import re\n",
        "data = pd.read_csv(\"Ingredients.csv\")\n",
        "df=pd.DataFrame(data=data)\n"
      ],
      "execution_count": 10,
      "outputs": []
    },
    {
      "cell_type": "code",
      "metadata": {
        "id": "297yRmbpNnsO",
        "colab_type": "code",
        "colab": {}
      },
      "source": [
        "import __init__\n",
        "import utils\n",
        "import en\n",
        "import test_new_feature\n"
      ],
      "execution_count": 1,
      "outputs": []
    },
    {
      "cell_type": "code",
      "metadata": {
        "id": "Ldoa9DPDNCgi",
        "colab_type": "code",
        "colab": {}
      },
      "source": [
        "from en import parse"
      ],
      "execution_count": 2,
      "outputs": []
    },
    {
      "cell_type": "code",
      "metadata": {
        "id": "NfUN7KZq6co3",
        "colab_type": "code",
        "colab": {
          "base_uri": "https://localhost:8080/",
          "height": 34
        },
        "outputId": "45d92c32-074c-43ad-95a6-cd831b2fb8fa"
      },
      "source": [
        "print(parse(\"Roasted scrapped egg\"))"
      ],
      "execution_count": 3,
      "outputs": [
        {
          "output_type": "stream",
          "text": [
            "{'quantity': '', 'unit': 'Roasted', 'measure': ' Roasted', 'name': 'egg'}\n"
          ],
          "name": "stdout"
        }
      ]
    },
    {
      "cell_type": "code",
      "metadata": {
        "id": "L-nsCpO-1J9T",
        "colab_type": "code",
        "colab": {}
      },
      "source": [
        "a=[]\n",
        "b=[]\n",
        "c=[]\n"
      ],
      "execution_count": 4,
      "outputs": []
    },
    {
      "cell_type": "code",
      "metadata": {
        "id": "hWYYjoI6TruA",
        "colab_type": "code",
        "colab": {}
      },
      "source": [
        "for i in range(len(df)):\n",
        "   a.append(parse(df[\"Ingredient Name\"][i]))\n",
        "   b.append(a[i]['name'].split())\n",
        "   c.append(b[i][0])\n",
        "   "
      ],
      "execution_count": 11,
      "outputs": []
    },
    {
      "cell_type": "code",
      "metadata": {
        "id": "7ulTQCNL5zck",
        "colab_type": "code",
        "colab": {}
      },
      "source": [
        "print(c)"
      ],
      "execution_count": null,
      "outputs": []
    },
    {
      "cell_type": "code",
      "metadata": {
        "id": "kBAtskHYBZ_U",
        "colab_type": "code",
        "colab": {}
      },
      "source": [
        "data=list(zip(df[\"Ingredient Name\"],c))\n",
        "df=pd.DataFrame(data=data)\n",
        "df.to_csv('new.csv',index=False,encoding='utf-8')\n"
      ],
      "execution_count": 12,
      "outputs": []
    },
    {
      "cell_type": "code",
      "metadata": {
        "id": "McsL39TMkxfZ",
        "colab_type": "code",
        "colab": {}
      },
      "source": [
        "__author__ = 'sheraz/nibesh'\n",
        "\n",
        "import re\n",
        "from itertools import chain\n",
        "\n",
        "from utils import normalize, escape_re_string\n",
        "\n",
        "UNITS = {\"cup\": [\"cups\", \"cup\", \"c.\", \"c\"],\n",
        "         \"fluid_ounce\": [\"fl. oz.\", \"fl oz\", \"fluid ounce\", \"fluid ounces\"],\n",
        "         \"gallon\": [\"gal\", \"gal.\", \"gallon\", \"gallons\"],\n",
        "         \"ounce\": [\"oz\", \"oz.\", \"ounce\", \"ounces\"],\n",
        "         \"pint\": [\"pt\", \"pt.\", \"pint\", \"pints\"],\n",
        "         \"pound\": [\"lb\", \"lb.\", \"pound\", \"pounds\"],\n",
        "         \"quart\": [\"qt\", \"qt.\", \"qts\", \"qts.\", \"quart\", \"quarts\"],\n",
        "         \"tablespoon\": [\"tbsp.\", \"tbsp\", \"T\", \"T.\", \"tablespoon\", \"tablespoons\", \"tbs.\", \"tbs\"],\n",
        "         \"teaspoon\": [\"tsp.\", \"tsp\", \"t\", \"t.\", \"teaspoon\", \"teaspoons\"],\n",
        "         \"gram\": [\"g\", \"g.\", \"gr\", \"gr.\", \"gram\", \"grams\"],\n",
        "         \"kilogram\": [\"kg\", \"kg.\", \"kilogram\", \"kilograms\"],\n",
        "         \"liter\": [\"l\", \"l.\", \"liter\", \"liters\"],\n",
        "         \"milligram\": [\"mg\", \"mg.\", \"milligram\", \"milligrams\"],\n",
        "         \"milliliter\": [\"ml\", \"ml.\", \"milliliter\", \"milliliters\"],\n",
        "         \"pinch\": [\"pinch\",\"inch\", \"pinches\"],\n",
        "         \"dash\": [\"dash\", \"dashes\"],\n",
        "         \"touch\": [\"touch\", \"touches\"],\n",
        "         \"handful\": [\"handful\", \"handfuls\"],\n",
        "         \"stick\": [\"stick\", \"sticks\"],\n",
        "         \"clove\": [\"cloves\", \"clove\"],\n",
        "         \"can\": [\"cans\", \"can\"], \"large\": [\"large\"],\n",
        "         \"small\": [\"small\"],\n",
        "         \"scoop\": [\"scoop\", \"scoops\"],\n",
        "         \"filets\": [\"filet\", \"filets\"],\n",
        "         \"sprig\": [\"sprigs\", \"sprig\"],\n",
        "         \"misc\":[\"Chopped\",\"Raw\",\"Mixed\",\"Ripe\",\"red\",\"Readymade\",\"Dry\",\"Seedless\",\"Chilled\",\"for\",\"For\",\"Boneless\",\"dry\",\"Sweet\",\"Green\",\"Roasted\",\"Powdered\",\"Yellow\",\"Black\",\"Red\",\"Crushed\",\"Finely chopped\",\"Fresh\",\"Dried\",\"Extra\",\"White\",\"Processed\",\"Juice\",\"Whole\",\"Refined\",\"Scraped\",\"Whipped\",\"Condensed\",\"Pure\",\"Cooked\",\"Dark\",\"Medium\",\"Desiccated\",\"Melted\",\"Tinned\",\"Leg\",\"Split\",\"Thick\",\"Silvered\",\"Hot\",\"Cold\",\"Cool\",\"Toasted\",\"Baked\"]}\n",
        "\n",
        "NUMBERS = ['seventeen', 'eighteen', 'thirteen', 'nineteen', 'fourteen', 'sixteen', 'fifteen', 'seventy', 'twelve',\n",
        "           'eleven', 'eighty', 'thirty', 'ninety', 'twenty', 'seven', 'fifty', 'sixty', 'forty', 'three', 'eight',\n",
        "           'four', 'zero', 'five', 'nine', 'ten', 'one', 'six', 'two', 'an', 'a']\n",
        "\n",
        "omit = [\"of\",\"black\",\"yellow\",\"red\",\"green\",\"fresh\",\"1\",\"1/2\",\"scrapped\",\"Puffed\"]\n",
        "\n",
        "a = list(chain.from_iterable(UNITS.values()))\n",
        "a.sort(key=lambda x: len(x), reverse=True)\n",
        "a = map(escape_re_string, a)\n",
        "\n",
        "PARSER_RE = re.compile(\n",
        "    r'(?P<quantity>(?:[\\d\\.,][\\d\\.,\\s/]*)?\\s*(?:(?:%s)\\s*)*)?(\\s*(?P<unit>%s)\\s+)?(\\s*(?:%s)\\s+)?(\\s*(?P<name>.+))?' % (\n",
        "        '|'.join(NUMBERS), '|'.join(a), '|'.join(omit)))\n",
        "\n",
        "\n",
        "def parse(st):\n",
        "    \"\"\"\n",
        "\n",
        "    :param st:\n",
        "    :return:\n",
        "    \"\"\"\n",
        "    st = normalize(st)\n",
        "    res = PARSER_RE.match(st)\n",
        "\n",
        "    return {\n",
        "        'quantity':(res.group('quantity') or '').strip(),\n",
        "        'unit':(res.group('unit') or '').strip(),\n",
        "        'measure': (res.group('quantity') or '').strip() + ' ' + (res.group('unit') or '').strip(),\n",
        "        'name': (res.group('name') or '').strip()\n",
        "    }\n"
      ],
      "execution_count": null,
      "outputs": []
    }
  ]
}